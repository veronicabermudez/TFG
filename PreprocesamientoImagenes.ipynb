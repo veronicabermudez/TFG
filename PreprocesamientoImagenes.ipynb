{
 "cells": [
  {
   "cell_type": "markdown",
   "id": "e270f8ed",
   "metadata": {},
   "source": [
    "# Paso 1. Preprocesamiento completo (obtención de las imágenes HR)"
   ]
  },
  {
   "cell_type": "code",
   "execution_count": 1,
   "id": "1d133b07",
   "metadata": {},
   "outputs": [
    {
     "name": "stdout",
     "output_type": "stream",
     "text": [
      "Proceso completado.\n"
     ]
    }
   ],
   "source": [
    "import os\n",
    "import nibabel as nib\n",
    "import numpy as np\n",
    "from scipy.ndimage import zoom\n",
    "\n",
    "\n",
    "# Directorio raíz de las imágenes .nii.gz\n",
    "directorio_raiz = '/home/veronicabp/Dataset/OASIS-3/P6/'\n",
    "\n",
    "# Obtener una lista de carpetas en el directorio raíz\n",
    "carpetas_originales = [d for d in os.listdir(directorio_raiz) if os.path.isdir(os.path.join(directorio_raiz, d))]\n",
    "\n",
    "# Procesar cada carpeta\n",
    "for carpeta_original in carpetas_originales:\n",
    "    carpeta_orig_path = os.path.join(directorio_raiz, carpeta_original)\n",
    "    \n",
    "    # Crear carpetas para las imágenes normalizadas e interpoladas, consideradas HR\n",
    "    carpeta_HR = \"img_HR\"\n",
    "    carpeta_HR_path = os.path.join(directorio_raiz, carpeta_HR)\n",
    "    carpeta_destino = carpeta_original + \"_HR\"\n",
    "    carpeta_dest_path = os.path.join(carpeta_HR_path, carpeta_destino)\n",
    "    os.makedirs(carpeta_dest_path, exist_ok=True)\n",
    "    \n",
    "    # Obtener una lista de todas las imágenes .nii.gz en la carpeta original\n",
    "    imagenes_nii = [f for f in os.listdir(carpeta_orig_path) if f.endswith(\".nii.gz\")]\n",
    "    \n",
    "    # Procesar cada imagen\n",
    "    for imagen_nii in imagenes_nii:\n",
    "        # Cargar la imagen .nii.gz\n",
    "        imagen = nib.load(os.path.join(carpeta_orig_path, imagen_nii))\n",
    "        data = imagen.get_fdata()\n",
    "        \n",
    "        \n",
    "        # Cambiar la resolución aplicando interpolación\n",
    "        dimensiones_originales = data.shape\n",
    "        nuevas_dimensiones = (206,244,198)\n",
    "\n",
    "        factores_escala = [\n",
    "            nuevo / original for nuevo, original in zip(nuevas_dimensiones, dimensiones_originales)\n",
    "        ]\n",
    "\n",
    "        data_interpolated = zoom(data, factores_escala, order=3, mode='nearest')\n",
    "        \n",
    "        \n",
    "        # Normalizar los valores de píxeles entre 0 y 1\n",
    "        data_normalized = (data_interpolated - np.min(data_interpolated)) / (np.max(data_interpolated) - np.min(data_interpolated))\n",
    "        \n",
    "        # Crear una nueva imagen NiBabel con los datos procesados\n",
    "        imagen_P = nib.Nifti1Image(data_normalized, imagen.affine)\n",
    "              \n",
    "        # Guardar la imagen procesada en la carpeta de destino\n",
    "        imagen_P_file = os.path.join(carpeta_dest_path, imagen_nii.split(\".nii.gz\")[0] + \"_HR.nii.gz\")\n",
    "        nib.save(imagen_P, imagen_P_file)\n",
    "\n",
    "print(\"Proceso completado.\")"
   ]
  },
  {
   "cell_type": "markdown",
   "id": "0ff472dd",
   "metadata": {},
   "source": [
    "# Paso 2. Downsampling de las imágenes (obtención de las imágenes LR)"
   ]
  },
  {
   "cell_type": "code",
   "execution_count": 3,
   "id": "21c13a55",
   "metadata": {},
   "outputs": [
    {
     "name": "stdout",
     "output_type": "stream",
     "text": [
      "Proceso completado.\n"
     ]
    }
   ],
   "source": [
    "import os\n",
    "import nibabel as nib\n",
    "import numpy as np\n",
    "\n",
    "# Directorio raíz de las imágenes .nii.gz\n",
    "directorio_raiz = '/home/veronicabp/Dataset/OASIS-3/P6/img_HR/'\n",
    "\n",
    "\n",
    "# Obtener una lista de carpetas en el directorio raíz\n",
    "carpetas_originales = [d for d in os.listdir(directorio_raiz) if os.path.isdir(os.path.join(directorio_raiz, d))]\n",
    "\n",
    "# Carpeta raíz para las nuevas imágenes LR\n",
    "carpeta_LR_raiz = carpeta_LR_raiz = os.path.join(os.path.dirname(os.path.dirname(directorio_raiz)), \"img_LR\")\n",
    "os.makedirs(carpeta_LR_raiz, exist_ok=True)\n",
    "\n",
    "# Procesar cada carpeta\n",
    "for carpeta_original in carpetas_originales:\n",
    "    carpeta_orig_path = os.path.join(directorio_raiz, carpeta_original)\n",
    "    \n",
    "    # Crear una carpeta para las nuevas imágenes LR dentro de la carpeta raíz\n",
    "    carpeta_destino = carpeta_original.replace(\"_HR\", \"\") + \"_LR\"\n",
    "    carpeta_dest_path = os.path.join(carpeta_LR_raiz, carpeta_destino)\n",
    "    os.makedirs(carpeta_dest_path, exist_ok=True)\n",
    "    \n",
    "    # Obtener una lista de todas las imágenes .nii.gz en la carpeta original\n",
    "    imagenes_nii = [f for f in os.listdir(carpeta_orig_path) if f.endswith(\".nii.gz\")]\n",
    "    \n",
    "    # Procesar cada imagen\n",
    "    for imagen_nii in imagenes_nii:\n",
    "\n",
    "        # Cargar la imagen .nii.gz\n",
    "        imagen = nib.load(os.path.join(carpeta_orig_path, imagen_nii))\n",
    "        \n",
    "        # Obtener los datos de la imagen\n",
    "        data = imagen.get_fdata()\n",
    "        \n",
    "        # Definir el factor de reducción en cada dimensión\n",
    "        factor_de_reduccion = (2, 2, 2)\n",
    "        \n",
    "        # Realizar el downsampling\n",
    "        data_downsampled = data[::factor_de_reduccion[0], ::factor_de_reduccion[1], ::factor_de_reduccion[2]]\n",
    "        \n",
    "        # Crear una nueva imagen NiBabel\n",
    "        imagen_downsampled = nib.Nifti1Image(data_downsampled, imagen.affine)\n",
    "        nuevo_nombre= imagen_nii.split(\"_HR.nii.gz\")[0] + \"_LR.nii.gz\"\n",
    "        \n",
    "        # Crear una nueva carpeta con el mismo nombre que el archivo\n",
    "        carpeta_igual = os.path.join(carpeta_dest_path, nuevo_nombre.replace('_LR.nii.gz',''))\n",
    "        \n",
    "        # Verificar si la carpeta ya exite, si no, crearla\n",
    "        if not os.path.exists(carpeta_igual):\n",
    "            os.makedirs(carpeta_igual)\n",
    "        \n",
    "        # Guardar la imagen LR en la carpeta de destino con su mismo nombre\n",
    "        imagen_LR_file = os.path.join(carpeta_igual, nuevo_nombre)\n",
    "        nib.save(imagen_downsampled, imagen_LR_file)\n",
    "             \n",
    "print(\"Proceso completado.\")\n"
   ]
  },
  {
   "cell_type": "markdown",
   "id": "5eeb2dc4",
   "metadata": {},
   "source": [
    "# Paso 2.1 Filtrado Gaussiano (opcional)"
   ]
  },
  {
   "cell_type": "markdown",
   "id": "9936ed3c",
   "metadata": {},
   "source": [
    "Hacer este paso alternativamente al paso 2, no después de él. "
   ]
  },
  {
   "cell_type": "code",
   "execution_count": 1,
   "id": "9824891b",
   "metadata": {},
   "outputs": [
    {
     "name": "stdout",
     "output_type": "stream",
     "text": [
      "Proceso completado.\n"
     ]
    }
   ],
   "source": [
    "import os\n",
    "import nibabel as nib\n",
    "import numpy as np\n",
    "from scipy.ndimage import gaussian_filter\n",
    "\n",
    "# Directorio raíz de las imágenes .nii.gz\n",
    "directorio_raiz = '/home/veronicabp/Dataset/ATLAS_2/P11/imagenes/img_HR/'\n",
    "\n",
    "\n",
    "# Obtener una lista de carpetas en el directorio raíz\n",
    "carpetas_originales = [d for d in os.listdir(directorio_raiz) if os.path.isdir(os.path.join(directorio_raiz, d))]\n",
    "\n",
    "# Carpeta raíz para las nuevas imágenes LR\n",
    "carpeta_LR_raiz = carpeta_LR_raiz = os.path.join(os.path.dirname(os.path.dirname(directorio_raiz)), \"img_LR\")\n",
    "os.makedirs(carpeta_LR_raiz, exist_ok=True)\n",
    "\n",
    "# Procesar cada carpeta\n",
    "for carpeta_original in carpetas_originales:\n",
    "    carpeta_orig_path = os.path.join(directorio_raiz, carpeta_original)\n",
    "    \n",
    "    # Crear una carpeta para las nuevas imágenes LR dentro de la carpeta raíz\n",
    "    carpeta_destino = carpeta_original.replace(\"_HR\", \"\") + \"_LR\"\n",
    "    carpeta_dest_path = os.path.join(carpeta_LR_raiz, carpeta_destino)\n",
    "    os.makedirs(carpeta_dest_path, exist_ok=True)\n",
    "    \n",
    "    # Obtener una lista de todas las imágenes .nii.gz en la carpeta original\n",
    "    imagenes_nii = [f for f in os.listdir(carpeta_orig_path) if f.endswith(\".nii.gz\")]\n",
    "    \n",
    "    # Procesar cada imagen\n",
    "    for imagen_nii in imagenes_nii:\n",
    "\n",
    "        # Cargar la imagen .nii.gz\n",
    "        imagen = nib.load(os.path.join(carpeta_orig_path, imagen_nii))\n",
    "        \n",
    "        # Obtener los datos de la imagen\n",
    "        data = imagen.get_fdata()\n",
    "        \n",
    "        # Definir el factor de reducción en cada dimensión\n",
    "        factor_de_reduccion = (2, 2, 2)\n",
    "        \n",
    "        # Realizar el downsampling\n",
    "        data_downsampled = data[::factor_de_reduccion[0], ::factor_de_reduccion[1], ::factor_de_reduccion[2]]\n",
    "        \n",
    "        # Aplicar el filtrado Gaussiano\n",
    "        sigma = 2 \n",
    "        data_downsampled_smoothed = gaussian_filter(data_downsampled, sigma=sigma)\n",
    "        \n",
    "        # Crear una nueva imagen NiBabel\n",
    "        imagen_downsampled_smoothed = nib.Nifti1Image(data_downsampled_smoothed, imagen.affine)\n",
    "        nuevo_nombre= imagen_nii.split(\"_HR.nii.gz\")[0] + \"_LR_smoothed.nii.gz\"\n",
    "        \n",
    "        # Crear una nueva carpeta con el mismo nombre que el archivo\n",
    "        carpeta_igual = os.path.join(carpeta_dest_path, nuevo_nombre.replace('_LR_smoothed.nii.gz',''))\n",
    "        \n",
    "        # Verificar si la carpeta ya existe, si no, crearla\n",
    "        if not os.path.exists(carpeta_igual):\n",
    "            os.makedirs(carpeta_igual)\n",
    "        \n",
    "        # Guardar la imagen LR filtrada en la carpeta de destino con su mismo nombre\n",
    "        imagen_LR_smoothed_file = os.path.join(carpeta_igual, nuevo_nombre)\n",
    "        nib.save(imagen_downsampled_smoothed, imagen_LR_smoothed_file)\n",
    "             \n",
    "print(\"Proceso completado.\")\n"
   ]
  },
  {
   "cell_type": "markdown",
   "id": "180eb470",
   "metadata": {},
   "source": [
    "# Paso 3. Creación de un archivo .csv con la ruta de los archivos "
   ]
  },
  {
   "cell_type": "code",
   "execution_count": 2,
   "id": "16aa517e",
   "metadata": {},
   "outputs": [
    {
     "name": "stdout",
     "output_type": "stream",
     "text": [
      "Se ha creado el archivo CSV en: /home/veronicabp/SegSRGAN/SegSRGAN/ATLAS_P11.csv\n"
     ]
    }
   ],
   "source": [
    "import os\n",
    "import csv\n",
    "\n",
    "def listar_archivos_nii(ruta_carpeta):\n",
    "    archivos_nii = []\n",
    "\n",
    "    for carpeta_actual, subcarpetas, archivos in os.walk(ruta_carpeta):\n",
    "        for archivo in archivos:\n",
    "            if archivo.endswith(\".nii.gz\"):\n",
    "                ruta_completa = os.path.join(carpeta_actual, archivo)\n",
    "                archivos_nii.append(ruta_completa)\n",
    "\n",
    "    return archivos_nii\n",
    "\n",
    "def crear_csv_rutas_nii(ruta_carpeta, nombre_archivo_csv=\"ATLAS_P11.csv\", ruta_destino=\"/home/veronicabp/SegSRGAN/SegSRGAN/\"):\n",
    "    archivos_nii = listar_archivos_nii(ruta_carpeta)\n",
    "\n",
    "    ruta_csv = os.path.join(ruta_destino, nombre_archivo_csv)\n",
    "\n",
    "    with open(ruta_csv, 'w', newline='') as archivo_csv:\n",
    "        escritor_csv = csv.writer(archivo_csv)\n",
    "\n",
    "        for ruta in archivos_nii:\n",
    "            escritor_csv.writerow([ruta])\n",
    "\n",
    "    print(f'Se ha creado el archivo CSV en: {ruta_csv}')\n",
    "\n",
    "ruta_carpeta = '/home/veronicabp/Dataset/ATLAS_2/P11/imagenes/img_LR/T1w_LR/'\n",
    "crear_csv_rutas_nii(ruta_carpeta)\n"
   ]
  },
  {
   "cell_type": "markdown",
   "id": "62caa9ab",
   "metadata": {},
   "source": [
    "# Histogramas"
   ]
  },
  {
   "cell_type": "markdown",
   "id": "851b9ce4",
   "metadata": {},
   "source": [
    "https://python-charts.com/es/distribucion/histograma-matplotlib/?utm_content=cmp-true"
   ]
  },
  {
   "cell_type": "markdown",
   "id": "ef45d4fd",
   "metadata": {},
   "source": [
    "# ATLAS"
   ]
  },
  {
   "cell_type": "markdown",
   "id": "600e9c0b",
   "metadata": {},
   "source": [
    "## 3 histogramas, 1 para cada plano, con la media de todas las imágenes"
   ]
  },
  {
   "cell_type": "markdown",
   "id": "c3bb4026",
   "metadata": {},
   "source": [
    "### Para las imágenes sin procesar "
   ]
  },
  {
   "cell_type": "code",
   "execution_count": 7,
   "id": "9d7adedb",
   "metadata": {},
   "outputs": [
    {
     "data": {
      "image/png": "[encoded data removed]",
      "text/plain": [
       "<Figure size 864x288 with 3 Axes>"
      ]
     },
     "metadata": {
      "needs_background": "light"
     },
     "output_type": "display_data"
    }
   ],
   "source": [
    "import os\n",
    "import nibabel as nib\n",
    "import numpy as np\n",
    "import matplotlib.pyplot as plt\n",
    "\n",
    "# Ruta de la carpeta que contiene las imágenes .nii.gz\n",
    "path_img_folder = '/home/veronicabp/Dataset/ATLAS_2/EyT (para el histograma)/sin procesar/'\n",
    "\n",
    "# Obtener la lista de archivos en la carpeta\n",
    "img_files = [file for file in os.listdir(path_img_folder) if file.endswith('.nii.gz')]\n",
    "\n",
    "# Inicializar listas para almacenar los datos de píxeles de cada plano\n",
    "axial_img_data = []\n",
    "coronal_img_data = []\n",
    "sagittal_img_data = []\n",
    "\n",
    "# Iterar sobre cada archivo de imagen\n",
    "for img_file in img_files:\n",
    "    # Construir la ruta completa del archivo\n",
    "    img_path = os.path.join(path_img_folder, img_file)\n",
    "    \n",
    "    # Cargar la imagen usando NiBabel\n",
    "    img_data = nib.load(img_path).get_fdata()\n",
    "    \n",
    "    # Extraer datos de píxeles de cada plano y agregarlos a la lista correspondiente\n",
    "    axial_plane = img_data[:, :, img_data.shape[2] // 2]  # Plano axial\n",
    "    coronal_plane = img_data[:, img_data.shape[1] // 2, :]  # Plano coronal\n",
    "    sagittal_plane = img_data[img_data.shape[0] // 2, :, :]  # Plano sagital\n",
    "    \n",
    "    axial_img_data.extend(axial_plane.flatten())\n",
    "    coronal_img_data.extend(coronal_plane.flatten())\n",
    "    sagittal_img_data.extend(sagittal_plane.flatten())\n",
    "\n",
    "# Calcular histogramas para cada plano\n",
    "axial_histogram, axial_bins = np.histogram(axial_img_data, bins=50, range=(0, np.max(axial_img_data)))\n",
    "coronal_histogram, coronal_bins = np.histogram(coronal_img_data, bins=50, range=(0, np.max(coronal_img_data)))\n",
    "sagittal_histogram, sagittal_bins = np.histogram(sagittal_img_data, bins=50, range=(0, np.max(sagittal_img_data)))\n",
    "\n",
    "# Mostrar los histogramas\n",
    "plt.figure(figsize=(12, 4))\n",
    "\n",
    "plt.subplot(1, 3, 1)\n",
    "plt.hist(axial_img_data, bins=50, range=(0, np.max(axial_img_data)))\n",
    "plt.title('Axial')\n",
    "plt.xlabel('Valor de píxel')\n",
    "plt.ylabel('Frecuencia')\n",
    "\n",
    "plt.subplot(1, 3, 2)\n",
    "plt.hist(coronal_img_data, bins=50, range=(0, np.max(coronal_img_data)))\n",
    "plt.title('Coronal')\n",
    "plt.xlabel('Valor de píxel')\n",
    "plt.ylabel('Frecuencia')\n",
    "\n",
    "plt.subplot(1, 3, 3)\n",
    "plt.hist(sagittal_img_data, bins=50, range=(0, np.max(sagittal_img_data)))\n",
    "plt.title('Sagital')\n",
    "plt.xlabel('Valor de píxel')\n",
    "plt.ylabel('Frecuencia')\n",
    "\n",
    "plt.tight_layout()\n",
    "plt.show()\n"
   ]
  },
  {
   "cell_type": "markdown",
   "id": "053f3cc0",
   "metadata": {},
   "source": [
    "### Para las imágenes procesadas"
   ]
  },
  {
   "cell_type": "code",
   "execution_count": 6,
   "id": "52473ddb",
   "metadata": {},
   "outputs": [
    {
     "data": {
      "image/png": "[encoded data removed]",
      "text/plain": [
       "<Figure size 864x288 with 3 Axes>"
      ]
     },
     "metadata": {
      "needs_background": "light"
     },
     "output_type": "display_data"
    }
   ],
   "source": [
    "import os\n",
    "import nibabel as nib\n",
    "import numpy as np\n",
    "import matplotlib.pyplot as plt\n",
    "\n",
    "# Ruta de la carpeta que contiene las imágenes .nii.gz\n",
    "path_img_folder = '/home/veronicabp/Dataset/ATLAS_2/EyT (para el histograma)/HR/'\n",
    "\n",
    "# Obtener la lista de archivos en la carpeta\n",
    "img_files = [file for file in os.listdir(path_img_folder) if file.endswith('.nii.gz')]\n",
    "\n",
    "# Inicializar listas para almacenar los datos de píxeles de cada plano\n",
    "axial_img_data = []\n",
    "coronal_img_data = []\n",
    "sagittal_img_data = []\n",
    "\n",
    "# Iterar sobre cada archivo de imagen\n",
    "for img_file in img_files:\n",
    "    # Construir la ruta completa del archivo\n",
    "    img_path = os.path.join(path_img_folder, img_file)\n",
    "    \n",
    "    # Cargar la imagen usando NiBabel\n",
    "    img_data = nib.load(img_path).get_fdata()\n",
    "    \n",
    "    # Extraer datos de píxeles de cada plano y agregarlos a la lista correspondiente\n",
    "    axial_plane = img_data[:, :, img_data.shape[2] // 2]  # Plano axial\n",
    "    coronal_plane = img_data[:, img_data.shape[1] // 2, :]  # Plano coronal\n",
    "    sagittal_plane = img_data[img_data.shape[0] // 2, :, :]  # Plano sagital\n",
    "    \n",
    "    axial_img_data.extend(axial_plane.flatten())\n",
    "    coronal_img_data.extend(coronal_plane.flatten())\n",
    "    sagittal_img_data.extend(sagittal_plane.flatten())\n",
    "\n",
    "# Calcular histogramas para cada plano\n",
    "axial_histogram, axial_bins = np.histogram(axial_img_data, bins=50, range=(0, np.max(axial_img_data)))\n",
    "coronal_histogram, coronal_bins = np.histogram(coronal_img_data, bins=50, range=(0, np.max(coronal_img_data)))\n",
    "sagittal_histogram, sagittal_bins = np.histogram(sagittal_img_data, bins=50, range=(0, np.max(sagittal_img_data)))\n",
    "\n",
    "# Mostrar los histogramas\n",
    "plt.figure(figsize=(12, 4))\n",
    "\n",
    "plt.subplot(1, 3, 1)\n",
    "plt.hist(axial_img_data, bins=50, range=(0, np.max(axial_img_data)))\n",
    "plt.title('Axial')\n",
    "plt.xlabel('Valor de píxel')\n",
    "plt.ylabel('Frecuencia')\n",
    "\n",
    "plt.subplot(1, 3, 2)\n",
    "plt.hist(coronal_img_data, bins=50, range=(0, np.max(coronal_img_data)))\n",
    "plt.title('Coronal')\n",
    "plt.xlabel('Valor de píxel')\n",
    "plt.ylabel('Frecuencia')\n",
    "\n",
    "plt.subplot(1, 3, 3)\n",
    "plt.hist(sagittal_img_data, bins=50, range=(0, np.max(sagittal_img_data)))\n",
    "plt.title('Sagital')\n",
    "plt.xlabel('Valor de píxel')\n",
    "plt.ylabel('Frecuencia')\n",
    "\n",
    "plt.tight_layout()\n",
    "plt.show()"
   ]
  }
 ],
 "metadata": {
  "kernelspec": {
   "display_name": "Python 3",
   "language": "python",
   "name": "python3"
  },
  "language_info": {
   "codemirror_mode": {
    "name": "ipython",
    "version": 3
   },
   "file_extension": ".py",
   "mimetype": "text/x-python",
   "name": "python",
   "nbconvert_exporter": "python",
   "pygments_lexer": "ipython3",
   "version": "3.6.13"
  }
 },
 "nbformat": 4,
 "nbformat_minor": 5
}
